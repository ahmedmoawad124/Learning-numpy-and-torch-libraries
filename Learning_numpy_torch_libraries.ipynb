{
  "nbformat": 4,
  "nbformat_minor": 0,
  "metadata": {
    "colab": {
      "name": "Learning_numpy_torch_libraries.ipynb",
      "provenance": []
    },
    "kernelspec": {
      "name": "python3",
      "display_name": "Python 3"
    }
  },
  "cells": [
    {
      "cell_type": "code",
      "metadata": {
        "id": "VldLegQ8hoa9",
        "colab_type": "code",
        "colab": {}
      },
      "source": [
        "from numpy import *\n",
        "'''\n",
        "# If you use : (from numpy import *), all functions will be loaded into the local namespace. \n",
        "For example array([1,2,3]) can then be used.\n",
        "# If you use : (import numpy), all sub-modules and functions in the numpy module can only be accesses in the numpy.* namespace. \n",
        "For example numpy.array([1,2,3]).\n",
        "# If you use : (import numpy as np), an alias for the namespace will be created. For example np.array([1,2,3]).\n",
        "'''"
      ],
      "execution_count": 0,
      "outputs": []
    },
    {
      "cell_type": "code",
      "metadata": {
        "id": "YgwepgDghvP8",
        "colab_type": "code",
        "colab": {
          "base_uri": "https://localhost:8080/",
          "height": 102
        },
        "outputId": "f13a8234-898f-43c5-a5eb-2c36ba45811e"
      },
      "source": [
        "# Create two one dimentional arrays (two vectors)\n",
        "a = array([1,2,3,4])\n",
        "b = array([1,2,3,4])\n",
        "\n",
        "# Summation\n",
        "sum_arrays = a + b\n",
        "print(\"The summation = \",sum_arrays)\n",
        "\n",
        "# subtraction\n",
        "sub_arrays = a - b\n",
        "print(\"The subtraction = \",sub_arrays)\n",
        "\n",
        "# multiply (Element wise)\n",
        "mult_arrays = a * b\n",
        "print(\"The multiply = \",mult_arrays)\n",
        "\n",
        "# Diviation (Element wise)\n",
        "div_arrays = a / b\n",
        "print(\"The diviation = \",div_arrays)\n",
        "\n",
        "# print the type\n",
        "print(\"The type is:\",type(sum_arrays))"
      ],
      "execution_count": 15,
      "outputs": [
        {
          "output_type": "stream",
          "text": [
            "The summation =  [2 4 6 8]\n",
            "The subtraction =  [0 0 0 0]\n",
            "The multiply =  [ 1  4  9 16]\n",
            "The diviation =  [1. 1. 1. 1.]\n",
            "The type is: <class 'numpy.ndarray'>\n"
          ],
          "name": "stdout"
        }
      ]
    },
    {
      "cell_type": "code",
      "metadata": {
        "id": "pbY_HGq5iZLM",
        "colab_type": "code",
        "colab": {}
      },
      "source": [
        ""
      ],
      "execution_count": 0,
      "outputs": []
    }
  ]
}