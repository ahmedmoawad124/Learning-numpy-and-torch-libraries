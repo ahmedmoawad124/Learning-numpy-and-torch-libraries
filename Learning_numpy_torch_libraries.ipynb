{
  "nbformat": 4,
  "nbformat_minor": 0,
  "metadata": {
    "colab": {
      "name": "Learning_numpy_torch_libraries.ipynb",
      "provenance": []
    },
    "kernelspec": {
      "name": "python3",
      "display_name": "Python 3"
    }
  },
  "cells": [
    {
      "cell_type": "code",
      "metadata": {
        "id": "VldLegQ8hoa9",
        "colab_type": "code",
        "colab": {}
      },
      "source": [
        "import numpy as np\n",
        "'''\n",
        "# If you use : (from numpy import *), all functions will be loaded into the local namespace. \n",
        "For example array([1,2,3]) can then be used.\n",
        "# If you use : (import numpy), all sub-modules and functions in the numpy module can only be accesses in the numpy.* namespace. \n",
        "For example numpy.array([1,2,3]).\n",
        "# If you use : (import numpy as np), an alias for the namespace will be created. For example np.array([1,2,3]).\n",
        "'''\n",
        "\n",
        "import torch"
      ],
      "execution_count": 0,
      "outputs": []
    },
    {
      "cell_type": "code",
      "metadata": {
        "id": "YgwepgDghvP8",
        "colab_type": "code",
        "outputId": "ded7a12e-85d8-425c-c607-32f8c1b2158b",
        "colab": {
          "base_uri": "https://localhost:8080/",
          "height": 357
        }
      },
      "source": [
        "''' *******************************************\n",
        "    ****************** numpy ****************** \n",
        "    *******************************************'''\n",
        "\n",
        "# Create one-dimentional array (vector) in numpy\n",
        "a = np.array([1,2,3,4])\n",
        "b = np.array([1,2,3,4])\n",
        "\n",
        "# print the array a\n",
        "print(\"The array a = \", a)\n",
        "\n",
        "# print the type array a\n",
        "print(\"The type of a is:\",type(a))\n",
        "\n",
        "# Printing array dimensions (axes) \n",
        "print(\"No. of dimensions: \", a.ndim)   # one-dimentional array\n",
        "\n",
        "# Print the shape of array\n",
        "print(\"The Shape of array a: \", a.shape)\n",
        "\n",
        "print('-'*60)\n",
        "\n",
        "# Element-wise Addition\n",
        "add_arrays = a + b\n",
        "print(\"Element-wise Addition = \",add_arrays)\n",
        "\n",
        "# Element-wise Subtraction\n",
        "sub_arrays = a - b\n",
        "print(\"Element-wise Subtraction = \",sub_arrays)\n",
        "\n",
        "# Element-Wise Multiplication\n",
        "mul_arrays = a * b\n",
        "print(\"Element-Wise Multiplication = \",mul_arrays)\n",
        "\n",
        "# Element-Wise Division\n",
        "div_arrays = a / b\n",
        "print(\"Element-Wise Division = \",div_arrays)\n",
        "\n",
        "print('-'*60)\n",
        "\n",
        "# To reshape the vector a to an array (4 x 1)\n",
        "a_reshaped = a.reshape(4,1)\n",
        "print(\"The array a_reshaped =\\n\", a_reshaped)\n",
        "print(\"The Shape of array a_reshaped: \", a_reshaped.shape)\n",
        "\n",
        "# To reshape the vector b to an array (2 x 2)\n",
        "b_reshaped = b.reshape(2,2)\n",
        "print(\"The array b_reshaped =\\n\", b_reshaped)\n",
        "print(\"The Shape of array b_reshaped: \", b_reshaped.shape)"
      ],
      "execution_count": 70,
      "outputs": [
        {
          "output_type": "stream",
          "text": [
            "The array a =  [1 2 3 4]\n",
            "The type of a is: <class 'numpy.ndarray'>\n",
            "No. of dimensions:  1\n",
            "The Shape of array a:  (4,)\n",
            "------------------------------------------------------------\n",
            "Element-wise Addition =  [2 4 6 8]\n",
            "Element-wise Subtraction =  [0 0 0 0]\n",
            "Element-Wise Multiplication =  [ 1  4  9 16]\n",
            "Element-Wise Division =  [1. 1. 1. 1.]\n",
            "------------------------------------------------------------\n",
            "The array a_reshaped =\n",
            " [[1]\n",
            " [2]\n",
            " [3]\n",
            " [4]]\n",
            "The Shape of array a_reshaped:  (4, 1)\n",
            "The array b_reshaped =\n",
            " [[1 2]\n",
            " [3 4]]\n",
            "The Shape of array b_reshaped:  (2, 2)\n"
          ],
          "name": "stdout"
        }
      ]
    },
    {
      "cell_type": "code",
      "metadata": {
        "id": "pbY_HGq5iZLM",
        "colab_type": "code",
        "outputId": "69051ffe-fd46-45d6-b3af-f3008e0ce5b6",
        "colab": {
          "base_uri": "https://localhost:8080/",
          "height": 306
        }
      },
      "source": [
        "# Create N-Dimensional array(ndarray) in Numpy\n",
        "\n",
        "c = np.array( [[ 1, 2],\n",
        "               [ 3, 4]] )\n",
        "\n",
        "d = np.array( [[ 1, 2],\n",
        "               [ 3, 4]] )\n",
        "\n",
        "# print the array c\n",
        "print(\"The array c =\\n\", c)\n",
        "\n",
        "# Print the type of array c\n",
        "print(\"The type of c is :\", type(c))\n",
        "\n",
        "# Printing array dimensions (axes)\n",
        "print(\"No. of dimensions: \", c.ndim)   # two-dimentional array\n",
        "\n",
        "# Print the shape of array c\n",
        "print(\"The Shape of array c: \", c.shape)\n",
        "\n",
        "# print the size of array c\n",
        "'''\n",
        "# Synatx: numpy.size(arr, axis=None)\n",
        "# Parameters:\n",
        "arr: [array_like] Input data.\n",
        "axis: [int, optional] Axis along which the elements are counted. \n",
        "By default, give the total number of elements.\n",
        "# Returns: [int] Return the number of elements along a given axis.\n",
        "'''\n",
        "print(\"The No. of rows of array c is:\",np.size(c,0))\n",
        "print(\"The No. of columns of array c is:\",np.size(c,1))\n",
        "print(\"The total number of elements of array c (No. of rows x No. of columns) = \",np.size(c)) # You can use : (c.size) to do that.\n",
        "\n",
        "# Print the type of elements in array c\n",
        "print(\"Array stores elements of type: \", c.dtype)\n",
        "\n",
        "print('-'*60)\n",
        "\n",
        "# Array multiplication (Element-wise multiplication)\n",
        "print (\"Array multiplication:\\n\", c*d)\n",
        "\n",
        "# matrix multiplication\n",
        "print (\"Matrix multiplication:\\n\", c.dot(d))"
      ],
      "execution_count": 71,
      "outputs": [
        {
          "output_type": "stream",
          "text": [
            "The array c =\n",
            " [[1 2]\n",
            " [3 4]]\n",
            "The type of c is : <class 'numpy.ndarray'>\n",
            "No. of dimensions:  2\n",
            "The Shape of array c:  (2, 2)\n",
            "The No. of rows of array c is: 2\n",
            "The No. of columns of array c is: 2\n",
            "The total number of elements of array c (No. of rows x No. of columns) =  4\n",
            "Array stores elements of type:  int64\n",
            "------------------------------------------------------------\n",
            "Array multiplication:\n",
            " [[ 1  4]\n",
            " [ 9 16]]\n",
            "Matrix multiplication:\n",
            " [[ 7 10]\n",
            " [15 22]]\n"
          ],
          "name": "stdout"
        }
      ]
    },
    {
      "cell_type": "code",
      "metadata": {
        "id": "InawOtZUxYjO",
        "colab_type": "code",
        "colab": {
          "base_uri": "https://localhost:8080/",
          "height": 306
        },
        "outputId": "ca02987e-42c6-49b2-cf85-e902052a01d0"
      },
      "source": [
        "# Unary operators: Many unary operations are provided as a method of ndarray class.\n",
        "arr = np.array([[1, 2, 3],\n",
        "                [4, 5, 6],\n",
        "                [7, 8, 9]])\n",
        " \n",
        "# maximum element of array\n",
        "print (\"Largest element is:\", arr.max())\n",
        "print (\"Row-wise maximum elements:\",arr.max(axis = 1))\n",
        " \n",
        "# minimum element of array\n",
        "print (\"Column-wise minimum elements:\",arr.min(axis = 0))\n",
        " \n",
        "# sum of array elements\n",
        "print (\"Sum of all array elements:\",arr.sum())\n",
        "\n",
        "# cumulative sum along each row\n",
        "print (\"Cumulative sum along each row:\\n\",arr.cumsum(axis = 1))\n",
        "\n",
        "# ones matrix\n",
        "print (\"ones matrix:\\n\",np.ones((2, 2)))\n",
        "\n",
        "# zeros matrix\n",
        "print (\"zeros matrix:\\n\",np.zeros((2, 2)))\n",
        "\n",
        "# Create 2x2 numpy array of random numbers\n",
        "print (\"array of random numbers:\\n\",np.random.rand(2, 2))\n"
      ],
      "execution_count": 72,
      "outputs": [
        {
          "output_type": "stream",
          "text": [
            "Largest element is: 9\n",
            "Row-wise maximum elements: [3 6 9]\n",
            "Column-wise minimum elements: [1 2 3]\n",
            "Sum of all array elements: 45\n",
            "Cumulative sum along each row:\n",
            " [[ 1  3  6]\n",
            " [ 4  9 15]\n",
            " [ 7 15 24]]\n",
            "ones matrix:\n",
            " [[1. 1.]\n",
            " [1. 1.]]\n",
            "zeros matrix:\n",
            " [[0. 0.]\n",
            " [0. 0.]]\n",
            "array of random numbers:\n",
            " [[0.70884104 0.06275727]\n",
            " [0.35705356 0.40876583]]\n"
          ],
          "name": "stdout"
        }
      ]
    },
    {
      "cell_type": "code",
      "metadata": {
        "id": "d1GtWPGSIgpA",
        "colab_type": "code",
        "colab": {
          "base_uri": "https://localhost:8080/",
          "height": 68
        },
        "outputId": "ac253325-d2e1-4c3b-b78e-15fa372e388b"
      },
      "source": [
        "# Universal functions (ufunc): NumPy provides familiar mathematical functions such as sin, cos, exp, etc.\n",
        "# create an array of sine values\n",
        "k = np.array([0, np.pi/2, np.pi])\n",
        "print (\"Sine values of array elements:\", np.sin(k))\n",
        " \n",
        "# exponential values\n",
        "l = np.array([0, 1, 2, 3])\n",
        "print (\"Exponent of array elements:\", np.exp(l))\n",
        " \n",
        "# square root of array values\n",
        "print (\"Square root of array elements:\", np.sqrt(l))"
      ],
      "execution_count": 73,
      "outputs": [
        {
          "output_type": "stream",
          "text": [
            "Sine values of array elements: [0.0000000e+00 1.0000000e+00 1.2246468e-16]\n",
            "Exponent of array elements: [ 1.          2.71828183  7.3890561  20.08553692]\n",
            "Square root of array elements: [0.         1.         1.41421356 1.73205081]\n"
          ],
          "name": "stdout"
        }
      ]
    },
    {
      "cell_type": "code",
      "metadata": {
        "id": "M7t7DophJZBM",
        "colab_type": "code",
        "colab": {
          "base_uri": "https://localhost:8080/",
          "height": 238
        },
        "outputId": "dc67dcbe-3966-4182-a384-2c79fe63a470"
      },
      "source": [
        "# The Linear Algebra module of NumPy offers various methods to apply linear algebra on any numpy array.\n",
        "A = np.array([[6, 1, 1],\n",
        "              [4, -2, 5],\n",
        "              [2, 8, 7]])\n",
        "# Trace of matrix A\n",
        "print(\"Trace of A:\", np.trace(A))\n",
        "\n",
        "# Determinant of a matrix\n",
        "print(\"\\nDeterminant of A:\", np.linalg.det(A))\n",
        "\n",
        "# Inverse of matrix A\n",
        "print(\"\\nInverse of A:\\n\", np.linalg.inv(A))\n",
        "\n",
        "# Matrix A raised to power 3\n",
        "print(\"\\nMatrix A raised to power 3:\\n\",\n",
        "           np.linalg.matrix_power(A, 3))"
      ],
      "execution_count": 74,
      "outputs": [
        {
          "output_type": "stream",
          "text": [
            "Trace of A: 11\n",
            "\n",
            "Determinant of A: -306.0\n",
            "\n",
            "Inverse of A:\n",
            " [[ 0.17647059 -0.00326797 -0.02287582]\n",
            " [ 0.05882353 -0.13071895  0.08496732]\n",
            " [-0.11764706  0.1503268   0.05228758]]\n",
            "\n",
            "Matrix A raised to power 3:\n",
            " [[336 162 228]\n",
            " [406 162 469]\n",
            " [698 702 905]]\n"
          ],
          "name": "stdout"
        }
      ]
    },
    {
      "cell_type": "code",
      "metadata": {
        "id": "m_KWA24jMYAZ",
        "colab_type": "code",
        "colab": {
          "base_uri": "https://localhost:8080/",
          "height": 833
        },
        "outputId": "528b986b-b88c-4bb6-f1e0-262e3113df32"
      },
      "source": [
        "''' *******************************************\n",
        "    ****************** torch ****************** \n",
        "    *******************************************'''\n",
        "# Convert numpy array to PyTorch tensor method 1\n",
        "tensor_c1 = torch.Tensor(c)\n",
        "print(\"Converted numpy array to PyTorch tensor method 1 :\\n\",tensor_c1)\n",
        "\n",
        "# Convert numpy array to PyTorch tensor method 2\n",
        "tensor_c2 = torch.from_numpy(c)\n",
        "print(\"Converted numpy array to PyTorch tensor method 2 :\\n\",tensor_c2)\n",
        "\n",
        "# Print the type of tensor_c\n",
        "print(\"The type of tensor_c1 is :\", type(tensor_c1))\n",
        "\n",
        "print(\"The type of tensor_c2 is :\", type(tensor_c2))\n",
        "\n",
        "print('-'*60)\n",
        "\n",
        "# Getting size of tensor\n",
        "print(\"The size of the tensor tensor_c1 : \",tensor_c1.size())\n",
        "\n",
        "print('-'*60)\n",
        "\n",
        "# Resize tensor tensor_c1 from 2x2 to 4x1\n",
        "resized_c1 = tensor_c1.view(4)\n",
        "print(\"The resized tensor resized_c1 :\\n\",resized_c1)\n",
        "print(\"The size of the tensor resized_c1 : \",resized_c1.size())\n",
        "\n",
        "print('-'*60)\n",
        "\n",
        "# ones matrix\n",
        "print (\"ones matrix:\\n\",torch.ones((2, 2)))\n",
        "\n",
        "# zeros matrix\n",
        "print (\"zeros matrix:\\n\",torch.zeros((2, 2)))\n",
        "\n",
        "# Create 2x2 tensor of random numbers\n",
        "print (\"tensor of random numbers:\\n\",torch.rand(2, 2))\n",
        "\n",
        "print('-'*60)\n",
        "\n",
        "# matrix (rank 2 tensor) multiplication \n",
        "M = torch.Tensor([[1, 2, 3], [1, 2, 3]]).view(-1, 2)  # resize or reshape the tensor from (2x3) to (3x2)\n",
        "print(\"The matrix M =\\n\",M)\n",
        "\n",
        "L = torch.Tensor([[2, 1]]).view(2, -1) # resize or reshape the tensor from (1x2) to (2x1)\n",
        "print(\"The matrix L =\\n\",L)\n",
        "\n",
        "ML1 = M.mm(L) # computes A.B ( mm == matrix multiplication)\n",
        "\n",
        "print(\"matrix multiplication ML1 =\\n\",ML1)    # the size of ML1 = [3,1]\n",
        "# or\n",
        "ML2 = torch.mm(M, L)\n",
        "print(\"matrix multiplication ML2 =\\n\",ML2)    # the size of ML2 = [3,1]\n",
        "# or\n",
        "ML3 = torch.matmul(M, L)\n",
        "print(\"matrix multiplication ML3 =\\n\",ML3)    # the size of ML3 = [3,1]\n",
        "# or, even simpler\n",
        "ML4 = M @ L # Python 3.5+\n",
        "print(\"matrix multiplication ML4 =\\n\",ML4)    # the size of ML3 = [3,1]"
      ],
      "execution_count": 75,
      "outputs": [
        {
          "output_type": "stream",
          "text": [
            "Converted numpy array to PyTorch tensor method 1 :\n",
            " tensor([[1., 2.],\n",
            "        [3., 4.]])\n",
            "Converted numpy array to PyTorch tensor method 2 :\n",
            " tensor([[1, 2],\n",
            "        [3, 4]])\n",
            "The type of tensor_c1 is : <class 'torch.Tensor'>\n",
            "The type of tensor_c2 is : <class 'torch.Tensor'>\n",
            "------------------------------------------------------------\n",
            "The size of the tensor tensor_c1 :  torch.Size([2, 2])\n",
            "------------------------------------------------------------\n",
            "The resized tensor resized_c1 :\n",
            " tensor([1., 2., 3., 4.])\n",
            "The size of the tensor resized_c1 :  torch.Size([4])\n",
            "------------------------------------------------------------\n",
            "ones matrix:\n",
            " tensor([[1., 1.],\n",
            "        [1., 1.]])\n",
            "zeros matrix:\n",
            " tensor([[0., 0.],\n",
            "        [0., 0.]])\n",
            "tensor of random numbers:\n",
            " tensor([[0.5712, 0.1957],\n",
            "        [0.1527, 0.0792]])\n",
            "------------------------------------------------------------\n",
            "The matrix M =\n",
            " tensor([[1., 2.],\n",
            "        [3., 1.],\n",
            "        [2., 3.]])\n",
            "The matrix L =\n",
            " tensor([[2.],\n",
            "        [1.]])\n",
            "matrix multiplication ML1 =\n",
            " tensor([[4.],\n",
            "        [7.],\n",
            "        [7.]])\n",
            "matrix multiplication ML2 =\n",
            " tensor([[4.],\n",
            "        [7.],\n",
            "        [7.]])\n",
            "matrix multiplication ML3 =\n",
            " tensor([[4.],\n",
            "        [7.],\n",
            "        [7.]])\n",
            "matrix multiplication ML4 =\n",
            " tensor([[4.],\n",
            "        [7.],\n",
            "        [7.]])\n"
          ],
          "name": "stdout"
        }
      ]
    }
  ]
}